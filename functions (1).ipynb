{
  "cells": [
    {
      "cell_type": "code",
      "execution_count": 14,
      "metadata": {
        "colab": {
          "base_uri": "https://localhost:8080/"
        },
        "id": "mnx0t5iCYu4d",
        "outputId": "073d68c0-e17b-4978-9860-564f58cabe3f"
      },
      "outputs": [
        {
          "name": "stdout",
          "output_type": "stream",
          "text": [
            "Hello, ritesh!\n"
          ]
        }
      ],
      "source": [
        "## 1) What is the difference between a function and a method in Python?\n",
        "\n",
        "#  > function:-A function is a block of reusable code that performs a specific task. It is defined using the def keyword and is independent of any object.\n",
        "def square(x):\n",
        "    return x * x\n",
        "square(5)\n",
        "\n",
        "#  > method :-A method is a function that is bound to an object (or instance) and operates on the data contained within that object.\n",
        "\n",
        "class Greeter:\n",
        "    def __init__(self, name):\n",
        "        self.name = name\n",
        "\n",
        "    def greet(self):\n",
        "        return f\"Hello, {self.name}!\"\n",
        "\n",
        "greeter = Greeter(\"ritesh\")\n",
        "\n",
        "print(greeter.greet())\n",
        "\n"
      ]
    },
    {
      "cell_type": "code",
      "execution_count": 17,
      "metadata": {
        "colab": {
          "base_uri": "https://localhost:8080/"
        },
        "id": "8-tlziG4Z66e",
        "outputId": "34143319-0c80-4746-f9cb-08b891673fac"
      },
      "outputs": [
        {
          "name": "stdout",
          "output_type": "stream",
          "text": [
            "Hello, ritesh!\n"
          ]
        }
      ],
      "source": [
        "#  2. Explain the concept of function arguments and parameters in Python?\n",
        "\n",
        "# parameters :- Parameters are placeholders defined in the function signature when the function is declared. They specify what kind of inputs the function expects.\n",
        "def greet(name):  # 'name' is a parameter\n",
        "    print(f\"Hello, {name}!\")\n",
        "\n",
        "# arguments :-Arguments are the actual values passed to a function when it is called. These values are assigned to the corresponding parameter\n",
        "greet(\"ritesh\")  # \"ritesh\" is an argument"
      ]
    },
    {
      "cell_type": "code",
      "execution_count": 18,
      "metadata": {
        "id": "dftc_kcoanfw"
      },
      "outputs": [],
      "source": [
        "#  3. What are the different ways to define and call a function in Python?\n",
        "\n",
        "#  > 1. Standard Function Definition:-\n",
        "def greet(name):\n",
        "    return f\"Hello, {name}!\"\n",
        "\n",
        "#     2. Default Arguments:-\n",
        "def greet(name=\"Guest\"):\n",
        "    return f\"Hello, {name}!\"\n",
        "\n",
        "#     3.Lambda Functions:-\n",
        "square = lambda x: x * x\n"
      ]
    },
    {
      "cell_type": "code",
      "execution_count": 19,
      "metadata": {
        "colab": {
          "base_uri": "https://localhost:8080/"
        },
        "id": "nS6mnKeXeOnj",
        "outputId": "35a22882-bb45-436f-9429-611509c78e2d"
      },
      "outputs": [
        {
          "name": "stdout",
          "output_type": "stream",
          "text": [
            "8\n"
          ]
        }
      ],
      "source": [
        "#  4. What is the purpose of the `return` statement in a Python function?\n",
        "\n",
        "#  >The return statement in Python is used to send a value back to the caller of the function. It terminates the function execution and specifies the value that the function should output.\n",
        "\n",
        "def add(a, b):\n",
        "    return a + b\n",
        "\n",
        "result = add(3, 5)\n",
        "print(result)\n"
      ]
    },
    {
      "cell_type": "code",
      "execution_count": 20,
      "metadata": {
        "colab": {
          "base_uri": "https://localhost:8080/"
        },
        "id": "LZPKteUIey5u",
        "outputId": "87b4a07d-e4a2-4c1e-bbf4-d376e78d6043"
      },
      "outputs": [
        {
          "name": "stdout",
          "output_type": "stream",
          "text": [
            "1\n",
            "2\n",
            "3\n"
          ]
        }
      ],
      "source": [
        "#  5. What are iterators in Python and how do they differ from iterables?\n",
        "\n",
        "#  > Iterators and iterables are foundational concepts in Python used to handle sequences of data efficiently. Here’s a clear explanation of both concepts and their differences:\n",
        "\n",
        "# A list is an iterable\n",
        "my_list = [1, 2, 3]\n",
        "\n",
        "# Using a for loop to iterate over an iterable\n",
        "for item in my_list:\n",
        "    print(item)  # Output: 1, 2, 3\n"
      ]
    },
    {
      "cell_type": "code",
      "execution_count": 22,
      "metadata": {
        "colab": {
          "base_uri": "https://localhost:8080/"
        },
        "id": "tmn1Qr5Tfx3s",
        "outputId": "8157a0a8-7780-4526-a133-2ff30d31737e"
      },
      "outputs": [
        {
          "name": "stdout",
          "output_type": "stream",
          "text": [
            "1\n",
            "2\n",
            "3\n"
          ]
        }
      ],
      "source": [
        "# Creating an iterator from an iterable\n",
        "my_list = [1, 2, 3]\n",
        "my_iterator = iter(my_list)\n",
        "\n",
        "print(next(my_iterator))\n",
        "print(next(my_iterator))\n",
        "print(next(my_iterator))\n"
      ]
    },
    {
      "cell_type": "code",
      "execution_count": 27,
      "metadata": {
        "id": "7xYf1_06f9a8"
      },
      "outputs": [],
      "source": [
        "#  6. Explain the concept of generators in Python and how they are defined.\n",
        "\n",
        "#  >Generators are a special type of iterable in Python that allow you to generate values lazily, meaning one value is produced at a time only when it is needed, instead of creating and storing all values in memory upfront.\n"
      ]
    },
    {
      "cell_type": "code",
      "execution_count": 30,
      "metadata": {
        "colab": {
          "base_uri": "https://localhost:8080/"
        },
        "id": "CnkrzGbKhEhH",
        "outputId": "c785f69d-2e54-4f41-9558-f9097dc2f5d5"
      },
      "outputs": [
        {
          "name": "stdout",
          "output_type": "stream",
          "text": [
            "1\n",
            "2\n",
            "3\n"
          ]
        }
      ],
      "source": [
        "#  What are the advantages of using generators over regular functions?\n",
        "\n",
        "#  >Generators provide several benefits, especially when dealing with large datasets, resource constraints, or scenarios requiring lazy evaluation\n",
        "\n",
        "def large_numbers():\n",
        "    num = 1\n",
        "    while True:\n",
        "        yield num\n",
        "        num += 1\n",
        "\n",
        "gen = large_numbers()\n",
        "print(next(gen))\n",
        "print(next(gen))\n",
        "print(next(gen))"
      ]
    },
    {
      "cell_type": "code",
      "execution_count": 31,
      "metadata": {
        "colab": {
          "base_uri": "https://localhost:8080/"
        },
        "id": "peRHM46Gh1pz",
        "outputId": "7d344e26-f837-467c-a032-b9a619300433"
      },
      "outputs": [
        {
          "name": "stdout",
          "output_type": "stream",
          "text": [
            "8\n"
          ]
        }
      ],
      "source": [
        "#  8. What is a lambda function in Python and when is it typically used?\n",
        "\n",
        "#  > lambda function is a small, anonymous function in Python that is defined using the lambda keyword.\n",
        "\n",
        "add = lambda x, y: x + y\n",
        "\n",
        "print(add(5, 3))"
      ]
    },
    {
      "cell_type": "code",
      "execution_count": 32,
      "metadata": {
        "colab": {
          "base_uri": "https://localhost:8080/"
        },
        "id": "yPyi8Cd0jBDf",
        "outputId": "6e9b58dd-899b-4382-a033-97e0074614d6"
      },
      "outputs": [
        {
          "name": "stdout",
          "output_type": "stream",
          "text": [
            "['HELLO', 'WORLD', 'PYTHON']\n"
          ]
        }
      ],
      "source": [
        "#  9. Explain the purpose and usage of the `map()` function in Python.\n",
        "\n",
        "#  >The map() function is a built-in Python function used to apply a given function to each item in an iterable (like a list, tuple, or string) and return a new map object containing the transformed items.\n",
        "\n",
        "words = ['hello', 'world', 'python']\n",
        "uppercase_words = map(str.upper, words)\n",
        "print(list(uppercase_words))"
      ]
    },
    {
      "cell_type": "code",
      "execution_count": null,
      "metadata": {
        "id": "Su8EFDvXjjJn"
      },
      "outputs": [],
      "source": [
        "#  10. What is the difference between `map()`, `reduce()`, and `filter()` functions in Python?\n",
        "\n",
        "#| Function   | Use Case                  | Returns       | Example Task               |\n",
        "\n",
        "#| `map()`    | Transform each item       | map object    | Square all numbers         |\n",
        "#| `filter()` | Filter items by condition | filter object | Keep only even numbers     |\n",
        "#| `reduce()` | Combine into one value    | Single value  | Sum or multiply all values |\n"
      ]
    },
    {
      "cell_type": "code",
      "execution_count": 33,
      "metadata": {
        "id": "52BIldEWkNd9"
      },
      "outputs": [],
      "source": [
        "\n",
        "\n"
      ]
    },
    {
      "cell_type": "code",
      "execution_count": 33,
      "metadata": {
        "id": "sxkRBRKvkk4g"
      },
      "outputs": [],
      "source": [
        "\n"
      ]
    },
    {
      "cell_type": "code",
      "execution_count": 34,
      "metadata": {
        "id": "awUtZOpnkmLK"
      },
      "outputs": [],
      "source": [
        "#  Practical Questions:"
      ]
    },
    {
      "cell_type": "code",
      "execution_count": 37,
      "metadata": {
        "colab": {
          "base_uri": "https://localhost:8080/"
        },
        "id": "RCnUONC6kqVl",
        "outputId": "59c305d5-9bcb-4d16-9c3a-a09b1bb5397a"
      },
      "outputs": [
        {
          "name": "stdout",
          "output_type": "stream",
          "text": [
            "Sum of even numbers: 60\n"
          ]
        }
      ],
      "source": [
        "#  1. Write a Python function that takes a list of numbers as input and returns the sum of all even numbers in\n",
        "# the list.\n",
        "\n",
        "numbers = [10, 15, 20, 25, 30]\n",
        "def sum_of_even_numbers(numbers):\n",
        "\n",
        "    sum_even = 0\n",
        "\n",
        "    for number in numbers:\n",
        "        if number % 2 == 0:\n",
        "            sum_even += number\n",
        "\n",
        "    return sum_even\n",
        "print(\"Sum of even numbers:\", result)\n"
      ]
    },
    {
      "cell_type": "code",
      "execution_count": 39,
      "metadata": {
        "colab": {
          "base_uri": "https://localhost:8080/"
        },
        "id": "vuYSajBylv_9",
        "outputId": "3c8703ea-db91-461d-b596-154d6a4111cf"
      },
      "outputs": [
        {
          "name": "stdout",
          "output_type": "stream",
          "text": [
            "Reversed string: hsetir\n"
          ]
        }
      ],
      "source": [
        "# 2.Create a Python function that accepts a string and returns the reverse of that string.\n",
        "\n",
        "def reverse_string(input_string):\n",
        "    reversed_string = input_string[::-1]\n",
        "\n",
        "    return reversed_string\n",
        "\n",
        "input_str = \"ritesh\"\n",
        "reversed_str = reverse_string(input_str)\n",
        "print(\"Reversed string:\", reversed_str)"
      ]
    },
    {
      "cell_type": "code",
      "execution_count": 54,
      "metadata": {
        "colab": {
          "base_uri": "https://localhost:8080/"
        },
        "id": "xtkF-whtmMMA",
        "outputId": "63344b57-eb56-4eac-b774-83dcffabef4a"
      },
      "outputs": [
        {
          "name": "stdout",
          "output_type": "stream",
          "text": [
            "Squared numbers: [1, 4, 9, 16, 25]\n"
          ]
        }
      ],
      "source": [
        "#  3. Implement a Python function that takes a list of integers and returns a new list containing the squares of\n",
        "#    each number.\n",
        "\n",
        "def square_numbers(numbers):\n",
        "    return [x ** 2 for x in numbers]\n",
        "\n",
        "input_numbers = [1, 2, 3, 4, 5]\n",
        "squared_numbers = square_numbers(input_numbers)\n",
        "print(\"Squared numbers:\", squared_numbers)\n",
        "\n",
        "\n",
        "\n"
      ]
    },
    {
      "cell_type": "code",
      "execution_count": 58,
      "metadata": {
        "colab": {
          "base_uri": "https://localhost:8080/"
        },
        "id": "ar5YIM_km_AK",
        "outputId": "87292b7b-7c71-4462-fcaa-7e554169e166"
      },
      "outputs": [
        {
          "name": "stdout",
          "output_type": "stream",
          "text": [
            "2 is prime\n",
            "3 is prime\n",
            "5 is prime\n",
            "7 is prime\n",
            "11 is prime\n",
            "13 is prime\n",
            "17 is prime\n",
            "19 is prime\n",
            "23 is prime\n",
            "29 is prime\n",
            "31 is prime\n",
            "37 is prime\n",
            "41 is prime\n",
            "43 is prime\n",
            "47 is prime\n",
            "53 is prime\n",
            "59 is prime\n",
            "61 is prime\n",
            "67 is prime\n",
            "71 is prime\n",
            "73 is prime\n",
            "79 is prime\n",
            "83 is prime\n",
            "89 is prime\n",
            "97 is prime\n",
            "101 is prime\n",
            "103 is prime\n",
            "107 is prime\n",
            "109 is prime\n",
            "113 is prime\n",
            "127 is prime\n",
            "131 is prime\n",
            "137 is prime\n",
            "139 is prime\n",
            "149 is prime\n",
            "151 is prime\n",
            "157 is prime\n",
            "163 is prime\n",
            "167 is prime\n",
            "173 is prime\n",
            "179 is prime\n",
            "181 is prime\n",
            "191 is prime\n",
            "193 is prime\n",
            "197 is prime\n",
            "199 is prime\n"
          ]
        }
      ],
      "source": [
        "#  4. Write a Python function that checks if a given number is prime or not from 1 to 200.\n",
        "\n",
        "def is_prime(number):\n",
        "    if number < 2:\n",
        "        return False\n",
        "    for i in range(2, int(number ** 0.5) + 1):\n",
        "        if number % i == 0:\n",
        "            return False\n",
        "\n",
        "    return True\n",
        "for num in range(1, 201):\n",
        "    if is_prime(num):\n",
        "        print(f\"{num} is prime\")\n"
      ]
    },
    {
      "cell_type": "code",
      "execution_count": null,
      "metadata": {
        "id": "YmdjCUD9nMUZ"
      },
      "outputs": [],
      "source": [
        "#  5. Create an iterator class in Python that generates the Fibonacci sequence up to a specified number of\n",
        "#  terms.\n",
        "\n",
        "class FibonacciIterator:\n",
        "    def __init__(self, max_terms):\n",
        "        self.max_terms = max_terms\n",
        "        self.count = 0\n",
        "        self.a, self.b = 0, 1\n",
        "\n",
        "    def __iter__(self):\n",
        "        return self\n",
        "\n",
        "    def __next__(self):\n",
        "        if self.count >= self.max_terms:\n",
        "            raise StopIteration\n",
        "        if self.count == 0:\n",
        "            self.count += 1\n",
        "            return 0\n",
        "        elif self.count == 1:\n",
        "            self.count += 1\n",
        "            return 1\n",
        "        else:\n",
        "            self.a, self.b = self.b, self.a + self.b\n",
        "            self.count += 1\n",
        "            return self.a\n",
        "\n",
        "# Example usage:\n",
        "fib = FibonacciIterator(10)\n",
        "for num in fib:\n",
        "    print(num)\n",
        "\n",
        "\n"
      ]
    },
    {
      "cell_type": "code",
      "execution_count": 63,
      "metadata": {
        "colab": {
          "base_uri": "https://localhost:8080/"
        },
        "id": "t_F2A3tDpvDA",
        "outputId": "cf2a8d2c-951a-487c-f82a-7a9de56503fd"
      },
      "outputs": [
        {
          "name": "stdout",
          "output_type": "stream",
          "text": [
            "1\n",
            "2\n",
            "4\n",
            "8\n",
            "16\n",
            "32\n"
          ]
        }
      ],
      "source": [
        "#  6. Write a generator function in Python that yields the powers of 2 up to a given exponent.\n",
        "\n",
        "def powers_of_2(exponent):\n",
        "    for i in range(exponent + 1):\n",
        "        yield 2 ** i\n",
        "for power in powers_of_2(5):\n",
        "    print(power)\n"
      ]
    },
    {
      "cell_type": "code",
      "execution_count": 65,
      "metadata": {
        "id": "r7nbx0f8qiNz"
      },
      "outputs": [],
      "source": [
        "#  7. Implement a generator function that reads a file line by line and yields each line as a string.\n",
        "\n"
      ]
    },
    {
      "cell_type": "code",
      "execution_count": 66,
      "metadata": {
        "id": "GkBVCquRqvB1"
      },
      "outputs": [],
      "source": [
        "#  8. Use a lambda function in Python to sort a list of tuples based on the second element of each tuple."
      ]
    },
    {
      "cell_type": "code",
      "execution_count": null,
      "metadata": {
        "id": "XV6kgIrirPcP"
      },
      "outputs": [],
      "source": []
    }
  ],
  "metadata": {
    "colab": {
      "provenance": []
    },
    "kernelspec": {
      "display_name": "Python 3",
      "name": "python3"
    },
    "language_info": {
      "name": "python"
    }
  },
  "nbformat": 4,
  "nbformat_minor": 0
}
